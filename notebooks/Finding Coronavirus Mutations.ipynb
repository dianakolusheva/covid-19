{
 "cells": [
  {
   "cell_type": "code",
   "execution_count": 2,
   "metadata": {},
   "outputs": [],
   "source": [
    "import re\n",
    "import csv\n",
    "from covid_19.preprocess import get_metadata_dict, get_zip_texts_for_entry, get_metadata_df\n",
    "from indra_db import get_primary_db"
   ]
  },
  {
   "cell_type": "code",
   "execution_count": 3,
   "metadata": {},
   "outputs": [],
   "source": [
    "covid_docs_file = '../covid_docs_ranked_corona.csv'\n",
    "covid_pmids = set()\n",
    "with open(covid_docs_file, 'rt') as f:\n",
    "    csv_reader = csv.reader(f, delimiter=',')\n",
    "    for row in csv_reader:\n",
    "        pmid = row[4]\n",
    "        covid_pmids.add(pmid)"
   ]
  },
  {
   "cell_type": "code",
   "execution_count": 4,
   "metadata": {},
   "outputs": [
    {
     "data": {
      "text/plain": [
       "3212"
      ]
     },
     "execution_count": 4,
     "metadata": {},
     "output_type": "execute_result"
    }
   ],
   "source": [
    "len(covid_pmids)"
   ]
  },
  {
   "cell_type": "code",
   "execution_count": 5,
   "metadata": {},
   "outputs": [
    {
     "name": "stderr",
     "output_type": "stream",
     "text": [
      "INFO: [2020-05-18 17:05:38] numexpr.utils - Note: NumExpr detected 12 cores but \"NUMEXPR_MAX_THREADS\" not set, so enforcing safe limit of 8.\n",
      "INFO: [2020-05-18 17:05:38] numexpr.utils - NumExpr defaulting to 8 threads.\n"
     ]
    }
   ],
   "source": [
    "md = get_metadata_dict()"
   ]
  },
  {
   "cell_type": "code",
   "execution_count": 6,
   "metadata": {},
   "outputs": [],
   "source": [
    "aa_reg = '[ACDEFGHIKLMNPQRSTVWY]'\n",
    "mut_reg = '\\s+' + aa_reg + '\\d+' + aa_reg + '\\s+'"
   ]
  },
  {
   "cell_type": "code",
   "execution_count": 9,
   "metadata": {},
   "outputs": [],
   "source": [
    "aa_short = ['ala', 'arg', 'asn', 'asp', 'cys', 'gln', 'glu', 'gly',\n",
    "            'his', 'ile', 'leu', 'lys', 'met', 'phe', 'pro', 'ser',\n",
    "            'thr', 'trp', 'tyr', 'val']\n",
    "aa_short_reg = '|'.join([aa for aa in aa_short])\n",
    "aa_seq_reg = '(?:%s)\\d{2,5}' % aa_short_reg"
   ]
  },
  {
   "cell_type": "code",
   "execution_count": null,
   "metadata": {},
   "outputs": [],
   "source": [
    "\"\"\"\n",
    "spr_docs = []\n",
    "for md_entry in md:\n",
    "    texts = get_zip_texts_for_entry(md_entry, zip=False)\n",
    "    for _, text_type, text in texts:\n",
    "        if re.search('\\splasmon\\s', text):\n",
    "            spr_docs.append(md_entry)\n",
    "\"\"\""
   ]
  },
  {
   "cell_type": "code",
   "execution_count": null,
   "metadata": {},
   "outputs": [],
   "source": [
    "ignore_list = (\n",
    "    'Y2H', # Yeast two-hybrid\n",
    "    'C3H', # Mouse strain\n",
    "    'D980R', # HeLa cell strain\n",
    "    'E3L', # vaccinia virus E3L\n",
    "    'S1P', # Sphingosine-1-phosphate\n",
    "    'Q7R', # quercetin 7-rhamnoside\n",
    "    'S6K', # S6 kinase\n",
    ")\n",
    "by_mut = {}\n",
    "by_doc = {}\n",
    "for ix, md_entry in enumerate(md):\n",
    "    pmid = md_entry['pubmed_id']\n",
    "    title = md_entry['title']\n",
    "    if pmid not in covid_pmids:\n",
    "        continue\n",
    "    texts = get_zip_texts_for_entry(md_entry, zip=False)\n",
    "    cord_uid = md_entry['cord_uid']\n",
    "    for _, text_type, text in texts:\n",
    "        matches = re.findall(mut_reg, text, flags=re.IGNORECASE)\n",
    "        for match in matches:\n",
    "            ms = match.strip()\n",
    "            if re.match('H\\dN', ms) or re.match('S\\d[ABCDEG]', ms) or ms in ignore_list:\n",
    "                continue\n",
    "            if ms not in by_mut:\n",
    "                by_mut[ms] = set([(title, pmid)])\n",
    "            else:\n",
    "                by_mut[ms].add((title, pmid))\n",
    "            if (title, pmid) not in by_doc:\n",
    "                by_doc[(title, pmid)] = set([ms])\n",
    "            else:\n",
    "                by_doc[(title, pmid)].add(ms)"
   ]
  },
  {
   "cell_type": "code",
   "execution_count": null,
   "metadata": {},
   "outputs": [],
   "source": [
    "docs = sorted([(k, list(v)) for k, v in by_doc.items()],\n",
    "               key=lambda x: len(x[1]), reverse=True)\n",
    "muts = sorted([(k, list(v)) for k, v in by_mut.items()],\n",
    "               key=lambda x: len(x[1]), reverse=True)"
   ]
  },
  {
   "cell_type": "code",
   "execution_count": null,
   "metadata": {},
   "outputs": [],
   "source": [
    "def dump_docs(docs_sorted):\n",
    "    docs_rows = [['title', 'pmid', 'pmid_link', 'mutation_count', 'mutation']]\n",
    "    for (title, pmid), muts in docs_sorted:\n",
    "        pmid_link = f'https://www.ncbi.nlm.nih.gov/pubmed/{pmid}'\n",
    "        count = len(muts)\n",
    "        for mut in muts:\n",
    "            docs_rows.append([title, pmid, pmid_link, count, mut])\n",
    "    with open('docs_ranked_by_muts.csv', 'wt') as f:\n",
    "        csvwriter = csv.writer(f, delimiter=',')\n",
    "        csvwriter.writerows(docs_rows)\n",
    "        \n",
    "def dump_muts(muts_sorted):\n",
    "    muts_rows = [['mutation', 'doc_count', 'title', 'pmid', 'pmid_link']]\n",
    "    for mut, docs in muts_sorted:\n",
    "        count = len(docs)\n",
    "        for title, pmid in docs:\n",
    "            pmid_link = f'https://www.ncbi.nlm.nih.gov/pubmed/{pmid}'\n",
    "            muts_rows.append([mut, count, title, pmid, pmid_link])\n",
    "    with open('muts_ranked_by_docs.csv', 'wt') as f:\n",
    "        csvwriter = csv.writer(f, delimiter=',')\n",
    "        csvwriter.writerows(muts_rows)\n",
    "        \n",
    "dump_docs(docs)\n",
    "dump_muts(muts)"
   ]
  },
  {
   "cell_type": "code",
   "execution_count": null,
   "metadata": {},
   "outputs": [],
   "source": [
    "muts[0]"
   ]
  },
  {
   "cell_type": "code",
   "execution_count": null,
   "metadata": {},
   "outputs": [],
   "source": [
    "db = get_primary_db()"
   ]
  },
  {
   "cell_type": "code",
   "execution_count": null,
   "metadata": {},
   "outputs": [],
   "source": [
    "from indra_db import client"
   ]
  },
  {
   "cell_type": "code",
   "execution_count": null,
   "metadata": {},
   "outputs": [],
   "source": [
    "from indra.sources import indra_db_rest as idr"
   ]
  },
  {
   "cell_type": "code",
   "execution_count": null,
   "metadata": {},
   "outputs": [],
   "source": [
    "idrp = idr.get_statements_for_paper([('pmid', _47)])"
   ]
  },
  {
   "cell_type": "code",
   "execution_count": null,
   "metadata": {},
   "outputs": [],
   "source": [
    "idrp.statements"
   ]
  },
  {
   "cell_type": "code",
   "execution_count": null,
   "metadata": {},
   "outputs": [],
   "source": [
    "idrp.statements[0].evidence[0].text"
   ]
  },
  {
   "cell_type": "code",
   "execution_count": null,
   "metadata": {},
   "outputs": [],
   "source": []
  }
 ],
 "metadata": {
  "kernelspec": {
   "display_name": "Python 3",
   "language": "python",
   "name": "python3"
  },
  "language_info": {
   "codemirror_mode": {
    "name": "ipython",
    "version": 3
   },
   "file_extension": ".py",
   "mimetype": "text/x-python",
   "name": "python",
   "nbconvert_exporter": "python",
   "pygments_lexer": "ipython3",
   "version": "3.7.4"
  }
 },
 "nbformat": 4,
 "nbformat_minor": 2
}
